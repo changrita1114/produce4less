{
 "cells": [
  {
   "cell_type": "code",
   "execution_count": 1,
   "metadata": {},
   "outputs": [],
   "source": [
    "import pandas as pd"
   ]
  },
  {
   "cell_type": "markdown",
   "metadata": {},
   "source": [
    "### APPLES - Data Cleaning and Transforming"
   ]
  },
  {
   "cell_type": "code",
   "execution_count": 2,
   "metadata": {},
   "outputs": [],
   "source": [
    "url = 'https://en.wikipedia.org/wiki/Apple'"
   ]
  },
  {
   "cell_type": "code",
   "execution_count": 3,
   "metadata": {},
   "outputs": [],
   "source": [
    "tables = pd.read_html(url)"
   ]
  },
  {
   "cell_type": "code",
   "execution_count": 4,
   "metadata": {},
   "outputs": [],
   "source": [
    "apple_df = tables[3]"
   ]
  },
  {
   "cell_type": "code",
   "execution_count": 5,
   "metadata": {},
   "outputs": [],
   "source": [
    "apple_df = apple_df.dropna()"
   ]
  },
  {
   "cell_type": "code",
   "execution_count": 6,
   "metadata": {
    "scrolled": true
   },
   "outputs": [],
   "source": [
    "apple_df = apple_df.drop([34,35,36])"
   ]
  },
  {
   "cell_type": "code",
   "execution_count": 7,
   "metadata": {},
   "outputs": [],
   "source": [
    "apple_df = apple_df.rename(columns={'Nutritional value per 100 g (3.5 oz)': 'Nutrition',\n",
    "                        'Nutritional value per 100 g (3.5 oz).1': 'Nutritional value per 100 g'})"
   ]
  },
  {
   "cell_type": "code",
   "execution_count": 8,
   "metadata": {},
   "outputs": [],
   "source": [
    "apple_df.loc[0] = [\"Commodity\", \"APPLES\"]"
   ]
  },
  {
   "cell_type": "code",
   "execution_count": 9,
   "metadata": {},
   "outputs": [
    {
     "data": {
      "text/html": [
       "<div>\n",
       "<style scoped>\n",
       "    .dataframe tbody tr th:only-of-type {\n",
       "        vertical-align: middle;\n",
       "    }\n",
       "\n",
       "    .dataframe tbody tr th {\n",
       "        vertical-align: top;\n",
       "    }\n",
       "\n",
       "    .dataframe thead th {\n",
       "        text-align: right;\n",
       "    }\n",
       "</style>\n",
       "<table border=\"1\" class=\"dataframe\">\n",
       "  <thead>\n",
       "    <tr style=\"text-align: right;\">\n",
       "      <th></th>\n",
       "      <th>Nutritional value per 100 g</th>\n",
       "    </tr>\n",
       "    <tr>\n",
       "      <th>Nutrition</th>\n",
       "      <th></th>\n",
       "    </tr>\n",
       "  </thead>\n",
       "  <tbody>\n",
       "    <tr>\n",
       "      <th>Commodity</th>\n",
       "      <td>APPLES</td>\n",
       "    </tr>\n",
       "    <tr>\n",
       "      <th>Carbohydrates</th>\n",
       "      <td>13.81 g</td>\n",
       "    </tr>\n",
       "    <tr>\n",
       "      <th>Sugars</th>\n",
       "      <td>10.39</td>\n",
       "    </tr>\n",
       "    <tr>\n",
       "      <th>Dietary fiber</th>\n",
       "      <td>2.4 g</td>\n",
       "    </tr>\n",
       "    <tr>\n",
       "      <th>Fat</th>\n",
       "      <td>0.17 g</td>\n",
       "    </tr>\n",
       "  </tbody>\n",
       "</table>\n",
       "</div>"
      ],
      "text/plain": [
       "              Nutritional value per 100 g\n",
       "Nutrition                                \n",
       "Commodity                          APPLES\n",
       "Carbohydrates                     13.81 g\n",
       "Sugars                              10.39\n",
       "Dietary fiber                       2.4 g\n",
       "Fat                                0.17 g"
      ]
     },
     "execution_count": 9,
     "metadata": {},
     "output_type": "execute_result"
    }
   ],
   "source": [
    "apple_df = apple_df.set_index('Nutrition')\n",
    "apple_df.head()"
   ]
  },
  {
   "cell_type": "code",
   "execution_count": 10,
   "metadata": {},
   "outputs": [
    {
     "data": {
      "text/html": [
       "<div>\n",
       "<style scoped>\n",
       "    .dataframe tbody tr th:only-of-type {\n",
       "        vertical-align: middle;\n",
       "    }\n",
       "\n",
       "    .dataframe tbody tr th {\n",
       "        vertical-align: top;\n",
       "    }\n",
       "\n",
       "    .dataframe thead th {\n",
       "        text-align: right;\n",
       "    }\n",
       "</style>\n",
       "<table border=\"1\" class=\"dataframe\">\n",
       "  <thead>\n",
       "    <tr style=\"text-align: right;\">\n",
       "      <th>Nutrition</th>\n",
       "      <th>Commodity</th>\n",
       "      <th>Carbohydrates</th>\n",
       "      <th>Sugars</th>\n",
       "      <th>Dietary fiber</th>\n",
       "      <th>Fat</th>\n",
       "      <th>Protein</th>\n",
       "      <th>Vitamins</th>\n",
       "      <th>Vitamin A equiv.beta-Carotenelutein zeaxanthin</th>\n",
       "      <th>Thiamine (B1)</th>\n",
       "      <th>Riboflavin (B2)</th>\n",
       "      <th>...</th>\n",
       "      <th>Calcium</th>\n",
       "      <th>Iron</th>\n",
       "      <th>Magnesium</th>\n",
       "      <th>Manganese</th>\n",
       "      <th>Phosphorus</th>\n",
       "      <th>Potassium</th>\n",
       "      <th>Sodium</th>\n",
       "      <th>Zinc</th>\n",
       "      <th>Other constituents</th>\n",
       "      <th>Water</th>\n",
       "    </tr>\n",
       "  </thead>\n",
       "  <tbody>\n",
       "    <tr>\n",
       "      <th>Nutritional value per 100 g</th>\n",
       "      <td>APPLES</td>\n",
       "      <td>13.81 g</td>\n",
       "      <td>10.39</td>\n",
       "      <td>2.4 g</td>\n",
       "      <td>0.17 g</td>\n",
       "      <td>0.26 g</td>\n",
       "      <td>Quantity %DV†</td>\n",
       "      <td>0% 3 μg0%27 μg29 μg</td>\n",
       "      <td>1% 0.017 mg</td>\n",
       "      <td>2% 0.026 mg</td>\n",
       "      <td>...</td>\n",
       "      <td>1% 6 mg</td>\n",
       "      <td>1% 0.12 mg</td>\n",
       "      <td>1% 5 mg</td>\n",
       "      <td>2% 0.035 mg</td>\n",
       "      <td>2% 11 mg</td>\n",
       "      <td>2% 107 mg</td>\n",
       "      <td>0% 1 mg</td>\n",
       "      <td>0% 0.04 mg</td>\n",
       "      <td>Quantity</td>\n",
       "      <td>85.56 g</td>\n",
       "    </tr>\n",
       "  </tbody>\n",
       "</table>\n",
       "<p>1 rows × 28 columns</p>\n",
       "</div>"
      ],
      "text/plain": [
       "Nutrition                   Commodity Carbohydrates Sugars Dietary fiber  \\\n",
       "Nutritional value per 100 g    APPLES       13.81 g  10.39         2.4 g   \n",
       "\n",
       "Nutrition                       Fat Protein       Vitamins  \\\n",
       "Nutritional value per 100 g  0.17 g  0.26 g  Quantity %DV†   \n",
       "\n",
       "Nutrition                   Vitamin A equiv.beta-Carotenelutein zeaxanthin  \\\n",
       "Nutritional value per 100 g                            0% 3 μg0%27 μg29 μg   \n",
       "\n",
       "Nutrition                   Thiamine (B1) Riboflavin (B2)  ...  Calcium  \\\n",
       "Nutritional value per 100 g   1% 0.017 mg     2% 0.026 mg  ...  1% 6 mg   \n",
       "\n",
       "Nutrition                          Iron Magnesium    Manganese Phosphorus  \\\n",
       "Nutritional value per 100 g  1% 0.12 mg   1% 5 mg  2% 0.035 mg   2% 11 mg   \n",
       "\n",
       "Nutrition                    Potassium   Sodium        Zinc  \\\n",
       "Nutritional value per 100 g  2% 107 mg  0% 1 mg  0% 0.04 mg   \n",
       "\n",
       "Nutrition                   Other constituents    Water  \n",
       "Nutritional value per 100 g           Quantity  85.56 g  \n",
       "\n",
       "[1 rows x 28 columns]"
      ]
     },
     "execution_count": 10,
     "metadata": {},
     "output_type": "execute_result"
    }
   ],
   "source": [
    "apple_df = apple_df.transpose()\n",
    "apple_df"
   ]
  },
  {
   "cell_type": "code",
   "execution_count": 11,
   "metadata": {},
   "outputs": [
    {
     "data": {
      "text/html": [
       "<div>\n",
       "<style scoped>\n",
       "    .dataframe tbody tr th:only-of-type {\n",
       "        vertical-align: middle;\n",
       "    }\n",
       "\n",
       "    .dataframe tbody tr th {\n",
       "        vertical-align: top;\n",
       "    }\n",
       "\n",
       "    .dataframe thead th {\n",
       "        text-align: right;\n",
       "    }\n",
       "</style>\n",
       "<table border=\"1\" class=\"dataframe\">\n",
       "  <thead>\n",
       "    <tr style=\"text-align: right;\">\n",
       "      <th>Nutrition</th>\n",
       "      <th>id</th>\n",
       "      <th>Carbohydrates</th>\n",
       "      <th>Sugars</th>\n",
       "      <th>Fat</th>\n",
       "      <th>Protein</th>\n",
       "      <th>Calcium</th>\n",
       "    </tr>\n",
       "  </thead>\n",
       "  <tbody>\n",
       "    <tr>\n",
       "      <th>Nutritional value per 100 g</th>\n",
       "      <td>APPLES</td>\n",
       "      <td>13.81 g</td>\n",
       "      <td>10.39</td>\n",
       "      <td>0.17 g</td>\n",
       "      <td>0.26 g</td>\n",
       "      <td>1% 6 mg</td>\n",
       "    </tr>\n",
       "  </tbody>\n",
       "</table>\n",
       "</div>"
      ],
      "text/plain": [
       "Nutrition                        id Carbohydrates Sugars     Fat Protein  \\\n",
       "Nutritional value per 100 g  APPLES       13.81 g  10.39  0.17 g  0.26 g   \n",
       "\n",
       "Nutrition                    Calcium  \n",
       "Nutritional value per 100 g  1% 6 mg  "
      ]
     },
     "execution_count": 11,
     "metadata": {},
     "output_type": "execute_result"
    }
   ],
   "source": [
    "# Create a filtered dataframe from specific columns\n",
    "apple_cols = [\"Commodity\", \"Carbohydrates\", \"Sugars\",\"Fat\",\"Protein\", \"Calcium\"]\n",
    "apple_transformed= apple_df[apple_cols].copy()\n",
    "\n",
    "#Rename the column headers\n",
    "apple_transformed = apple_transformed.rename(columns={\n",
    "                                                      \"Commodity\": \"id\"\n",
    "                                                     })\n",
    "\n",
    "apple_transformed"
   ]
  },
  {
   "cell_type": "code",
   "execution_count": 12,
   "metadata": {},
   "outputs": [
    {
     "data": {
      "text/html": [
       "<div>\n",
       "<style scoped>\n",
       "    .dataframe tbody tr th:only-of-type {\n",
       "        vertical-align: middle;\n",
       "    }\n",
       "\n",
       "    .dataframe tbody tr th {\n",
       "        vertical-align: top;\n",
       "    }\n",
       "\n",
       "    .dataframe thead tr th {\n",
       "        text-align: left;\n",
       "    }\n",
       "</style>\n",
       "<table border=\"1\" class=\"dataframe\">\n",
       "  <thead>\n",
       "    <tr>\n",
       "      <th></th>\n",
       "      <th colspan=\"2\" halign=\"left\">Apple production – 2018</th>\n",
       "    </tr>\n",
       "    <tr>\n",
       "      <th></th>\n",
       "      <th>Country</th>\n",
       "      <th>(millions of tonnes)</th>\n",
       "    </tr>\n",
       "  </thead>\n",
       "  <tbody>\n",
       "    <tr>\n",
       "      <th>0</th>\n",
       "      <td>China</td>\n",
       "      <td>39.2</td>\n",
       "    </tr>\n",
       "    <tr>\n",
       "      <th>1</th>\n",
       "      <td>United States</td>\n",
       "      <td>4.7</td>\n",
       "    </tr>\n",
       "    <tr>\n",
       "      <th>2</th>\n",
       "      <td>Poland</td>\n",
       "      <td>4.0</td>\n",
       "    </tr>\n",
       "    <tr>\n",
       "      <th>3</th>\n",
       "      <td>Turkey</td>\n",
       "      <td>3.6</td>\n",
       "    </tr>\n",
       "    <tr>\n",
       "      <th>4</th>\n",
       "      <td>Iran</td>\n",
       "      <td>2.5</td>\n",
       "    </tr>\n",
       "  </tbody>\n",
       "</table>\n",
       "</div>"
      ],
      "text/plain": [
       "  Apple production – 2018                     \n",
       "                  Country (millions of tonnes)\n",
       "0                   China                 39.2\n",
       "1           United States                  4.7\n",
       "2                  Poland                  4.0\n",
       "3                  Turkey                  3.6\n",
       "4                    Iran                  2.5"
      ]
     },
     "execution_count": 12,
     "metadata": {},
     "output_type": "execute_result"
    }
   ],
   "source": [
    "apple_country = tables[2]\n",
    "apple_country.head()"
   ]
  },
  {
   "cell_type": "code",
   "execution_count": 13,
   "metadata": {},
   "outputs": [
    {
     "data": {
      "text/html": [
       "<div>\n",
       "<style scoped>\n",
       "    .dataframe tbody tr th:only-of-type {\n",
       "        vertical-align: middle;\n",
       "    }\n",
       "\n",
       "    .dataframe tbody tr th {\n",
       "        vertical-align: top;\n",
       "    }\n",
       "\n",
       "    .dataframe thead th {\n",
       "        text-align: right;\n",
       "    }\n",
       "</style>\n",
       "<table border=\"1\" class=\"dataframe\">\n",
       "  <thead>\n",
       "    <tr style=\"text-align: right;\">\n",
       "      <th></th>\n",
       "      <th>Country</th>\n",
       "      <th>(millions of tonnes)</th>\n",
       "    </tr>\n",
       "  </thead>\n",
       "  <tbody>\n",
       "    <tr>\n",
       "      <th>0</th>\n",
       "      <td>China</td>\n",
       "      <td>39.2</td>\n",
       "    </tr>\n",
       "    <tr>\n",
       "      <th>1</th>\n",
       "      <td>United States</td>\n",
       "      <td>4.7</td>\n",
       "    </tr>\n",
       "    <tr>\n",
       "      <th>2</th>\n",
       "      <td>Poland</td>\n",
       "      <td>4.0</td>\n",
       "    </tr>\n",
       "    <tr>\n",
       "      <th>3</th>\n",
       "      <td>Turkey</td>\n",
       "      <td>3.6</td>\n",
       "    </tr>\n",
       "    <tr>\n",
       "      <th>4</th>\n",
       "      <td>Iran</td>\n",
       "      <td>2.5</td>\n",
       "    </tr>\n",
       "  </tbody>\n",
       "</table>\n",
       "</div>"
      ],
      "text/plain": [
       "         Country (millions of tonnes)\n",
       "0          China                 39.2\n",
       "1  United States                  4.7\n",
       "2         Poland                  4.0\n",
       "3         Turkey                  3.6\n",
       "4           Iran                  2.5"
      ]
     },
     "execution_count": 13,
     "metadata": {},
     "output_type": "execute_result"
    }
   ],
   "source": [
    "apple_country.columns = apple_country.columns.get_level_values(1)\n",
    "apple_country.head()"
   ]
  },
  {
   "cell_type": "code",
   "execution_count": 14,
   "metadata": {},
   "outputs": [
    {
     "data": {
      "text/html": [
       "<div>\n",
       "<style scoped>\n",
       "    .dataframe tbody tr th:only-of-type {\n",
       "        vertical-align: middle;\n",
       "    }\n",
       "\n",
       "    .dataframe tbody tr th {\n",
       "        vertical-align: top;\n",
       "    }\n",
       "\n",
       "    .dataframe thead th {\n",
       "        text-align: right;\n",
       "    }\n",
       "</style>\n",
       "<table border=\"1\" class=\"dataframe\">\n",
       "  <thead>\n",
       "    <tr style=\"text-align: right;\">\n",
       "      <th></th>\n",
       "      <th>Country</th>\n",
       "      <th>(millions of tonnes)</th>\n",
       "    </tr>\n",
       "  </thead>\n",
       "  <tbody>\n",
       "    <tr>\n",
       "      <th>0</th>\n",
       "      <td>China</td>\n",
       "      <td>39.2</td>\n",
       "    </tr>\n",
       "    <tr>\n",
       "      <th>1</th>\n",
       "      <td>United States</td>\n",
       "      <td>4.7</td>\n",
       "    </tr>\n",
       "    <tr>\n",
       "      <th>2</th>\n",
       "      <td>Poland</td>\n",
       "      <td>4.0</td>\n",
       "    </tr>\n",
       "  </tbody>\n",
       "</table>\n",
       "</div>"
      ],
      "text/plain": [
       "         Country (millions of tonnes)\n",
       "0          China                 39.2\n",
       "1  United States                  4.7\n",
       "2         Poland                  4.0"
      ]
     },
     "execution_count": 14,
     "metadata": {},
     "output_type": "execute_result"
    }
   ],
   "source": [
    "apple_top3 = apple_country.iloc[0:3]\n",
    "apple_top3"
   ]
  },
  {
   "cell_type": "code",
   "execution_count": 15,
   "metadata": {
    "scrolled": true
   },
   "outputs": [
    {
     "data": {
      "text/html": [
       "<div>\n",
       "<style scoped>\n",
       "    .dataframe tbody tr th:only-of-type {\n",
       "        vertical-align: middle;\n",
       "    }\n",
       "\n",
       "    .dataframe tbody tr th {\n",
       "        vertical-align: top;\n",
       "    }\n",
       "\n",
       "    .dataframe thead th {\n",
       "        text-align: right;\n",
       "    }\n",
       "</style>\n",
       "<table border=\"1\" class=\"dataframe\">\n",
       "  <thead>\n",
       "    <tr style=\"text-align: right;\">\n",
       "      <th></th>\n",
       "      <th>country</th>\n",
       "      <th>millions_of_tonnes</th>\n",
       "    </tr>\n",
       "  </thead>\n",
       "  <tbody>\n",
       "    <tr>\n",
       "      <th>0</th>\n",
       "      <td>China</td>\n",
       "      <td>39.2</td>\n",
       "    </tr>\n",
       "    <tr>\n",
       "      <th>1</th>\n",
       "      <td>United States</td>\n",
       "      <td>4.7</td>\n",
       "    </tr>\n",
       "    <tr>\n",
       "      <th>2</th>\n",
       "      <td>Poland</td>\n",
       "      <td>4.0</td>\n",
       "    </tr>\n",
       "  </tbody>\n",
       "</table>\n",
       "</div>"
      ],
      "text/plain": [
       "         country millions_of_tonnes\n",
       "0          China               39.2\n",
       "1  United States                4.7\n",
       "2         Poland                4.0"
      ]
     },
     "execution_count": 15,
     "metadata": {},
     "output_type": "execute_result"
    }
   ],
   "source": [
    "apple_top3 = apple_top3.rename(columns={'(millions of tonnes)': 'millions_of_tonnes','Country': 'country'})\n",
    "apple_top3"
   ]
  },
  {
   "cell_type": "code",
   "execution_count": 16,
   "metadata": {},
   "outputs": [
    {
     "data": {
      "text/html": [
       "<div>\n",
       "<style scoped>\n",
       "    .dataframe tbody tr th:only-of-type {\n",
       "        vertical-align: middle;\n",
       "    }\n",
       "\n",
       "    .dataframe tbody tr th {\n",
       "        vertical-align: top;\n",
       "    }\n",
       "\n",
       "    .dataframe thead th {\n",
       "        text-align: right;\n",
       "    }\n",
       "</style>\n",
       "<table border=\"1\" class=\"dataframe\">\n",
       "  <thead>\n",
       "    <tr style=\"text-align: right;\">\n",
       "      <th></th>\n",
       "      <th>commodity</th>\n",
       "      <th>country</th>\n",
       "      <th>millions_of_tonnes</th>\n",
       "    </tr>\n",
       "  </thead>\n",
       "  <tbody>\n",
       "    <tr>\n",
       "      <th>0</th>\n",
       "      <td>APPLE</td>\n",
       "      <td>China</td>\n",
       "      <td>39.2</td>\n",
       "    </tr>\n",
       "    <tr>\n",
       "      <th>1</th>\n",
       "      <td>APPLE</td>\n",
       "      <td>United States</td>\n",
       "      <td>4.7</td>\n",
       "    </tr>\n",
       "    <tr>\n",
       "      <th>2</th>\n",
       "      <td>APPLE</td>\n",
       "      <td>Poland</td>\n",
       "      <td>4.0</td>\n",
       "    </tr>\n",
       "  </tbody>\n",
       "</table>\n",
       "</div>"
      ],
      "text/plain": [
       "  commodity        country millions_of_tonnes\n",
       "0     APPLE          China               39.2\n",
       "1     APPLE  United States                4.7\n",
       "2     APPLE         Poland                4.0"
      ]
     },
     "execution_count": 16,
     "metadata": {},
     "output_type": "execute_result"
    }
   ],
   "source": [
    "apple_top3.insert(0, \"commodity\", [\"APPLE\",\"APPLE\",\"APPLE\"], True)\n",
    "apple_top3"
   ]
  },
  {
   "cell_type": "code",
   "execution_count": 17,
   "metadata": {
    "scrolled": true
   },
   "outputs": [
    {
     "data": {
      "text/html": [
       "<div>\n",
       "<style scoped>\n",
       "    .dataframe tbody tr th:only-of-type {\n",
       "        vertical-align: middle;\n",
       "    }\n",
       "\n",
       "    .dataframe tbody tr th {\n",
       "        vertical-align: top;\n",
       "    }\n",
       "\n",
       "    .dataframe thead th {\n",
       "        text-align: right;\n",
       "    }\n",
       "</style>\n",
       "<table border=\"1\" class=\"dataframe\">\n",
       "  <thead>\n",
       "    <tr style=\"text-align: right;\">\n",
       "      <th></th>\n",
       "      <th>Date</th>\n",
       "      <th>Region</th>\n",
       "      <th>Class</th>\n",
       "      <th>Commodity</th>\n",
       "      <th>Variety</th>\n",
       "      <th>Organic</th>\n",
       "      <th>Environment</th>\n",
       "      <th>Unit</th>\n",
       "      <th>Number of Stores</th>\n",
       "      <th>Weighted Avg Price</th>\n",
       "      <th>Low Price</th>\n",
       "      <th>High Price</th>\n",
       "      <th>% Marked Local</th>\n",
       "    </tr>\n",
       "  </thead>\n",
       "  <tbody>\n",
       "    <tr>\n",
       "      <th>0</th>\n",
       "      <td>11/6/2020</td>\n",
       "      <td>SOUTHWEST U.S.</td>\n",
       "      <td>FRUITS</td>\n",
       "      <td>APPLES</td>\n",
       "      <td>FUJI</td>\n",
       "      <td>NaN</td>\n",
       "      <td>NaN</td>\n",
       "      <td>3 lb bag</td>\n",
       "      <td>260</td>\n",
       "      <td>3.50</td>\n",
       "      <td>3.50</td>\n",
       "      <td>3.50</td>\n",
       "      <td>NaN</td>\n",
       "    </tr>\n",
       "    <tr>\n",
       "      <th>1</th>\n",
       "      <td>11/6/2020</td>\n",
       "      <td>SOUTHWEST U.S.</td>\n",
       "      <td>FRUITS</td>\n",
       "      <td>APPLES</td>\n",
       "      <td>FUJI</td>\n",
       "      <td>NaN</td>\n",
       "      <td>NaN</td>\n",
       "      <td>5 lb bag</td>\n",
       "      <td>219</td>\n",
       "      <td>3.55</td>\n",
       "      <td>2.99</td>\n",
       "      <td>3.99</td>\n",
       "      <td>NaN</td>\n",
       "    </tr>\n",
       "    <tr>\n",
       "      <th>2</th>\n",
       "      <td>11/6/2020</td>\n",
       "      <td>SOUTHWEST U.S.</td>\n",
       "      <td>FRUITS</td>\n",
       "      <td>APPLES</td>\n",
       "      <td>FUJI</td>\n",
       "      <td>NaN</td>\n",
       "      <td>NaN</td>\n",
       "      <td>per pound</td>\n",
       "      <td>1,554</td>\n",
       "      <td>1.22</td>\n",
       "      <td>0.50</td>\n",
       "      <td>1.49</td>\n",
       "      <td>20.0</td>\n",
       "    </tr>\n",
       "    <tr>\n",
       "      <th>3</th>\n",
       "      <td>11/6/2020</td>\n",
       "      <td>SOUTHWEST U.S.</td>\n",
       "      <td>FRUITS</td>\n",
       "      <td>APPLES</td>\n",
       "      <td>FUJI</td>\n",
       "      <td>Y</td>\n",
       "      <td>NaN</td>\n",
       "      <td>2 lb bag</td>\n",
       "      <td>146</td>\n",
       "      <td>2.50</td>\n",
       "      <td>2.50</td>\n",
       "      <td>2.50</td>\n",
       "      <td>NaN</td>\n",
       "    </tr>\n",
       "    <tr>\n",
       "      <th>4</th>\n",
       "      <td>11/6/2020</td>\n",
       "      <td>SOUTHWEST U.S.</td>\n",
       "      <td>FRUITS</td>\n",
       "      <td>APPLES</td>\n",
       "      <td>FUJI</td>\n",
       "      <td>Y</td>\n",
       "      <td>NaN</td>\n",
       "      <td>3 lb bag</td>\n",
       "      <td>113</td>\n",
       "      <td>3.99</td>\n",
       "      <td>3.99</td>\n",
       "      <td>3.99</td>\n",
       "      <td>NaN</td>\n",
       "    </tr>\n",
       "  </tbody>\n",
       "</table>\n",
       "</div>"
      ],
      "text/plain": [
       "        Date          Region   Class Commodity Variety Organic  Environment  \\\n",
       "0  11/6/2020  SOUTHWEST U.S.  FRUITS    APPLES    FUJI     NaN          NaN   \n",
       "1  11/6/2020  SOUTHWEST U.S.  FRUITS    APPLES    FUJI     NaN          NaN   \n",
       "2  11/6/2020  SOUTHWEST U.S.  FRUITS    APPLES    FUJI     NaN          NaN   \n",
       "3  11/6/2020  SOUTHWEST U.S.  FRUITS    APPLES    FUJI       Y          NaN   \n",
       "4  11/6/2020  SOUTHWEST U.S.  FRUITS    APPLES    FUJI       Y          NaN   \n",
       "\n",
       "        Unit Number of Stores  Weighted Avg Price  Low Price  High Price  \\\n",
       "0   3 lb bag              260                3.50       3.50        3.50   \n",
       "1   5 lb bag              219                3.55       2.99        3.99   \n",
       "2  per pound            1,554                1.22       0.50        1.49   \n",
       "3   2 lb bag              146                2.50       2.50        2.50   \n",
       "4   3 lb bag              113                3.99       3.99        3.99   \n",
       "\n",
       "   % Marked Local  \n",
       "0             NaN  \n",
       "1             NaN  \n",
       "2            20.0  \n",
       "3             NaN  \n",
       "4             NaN  "
      ]
     },
     "execution_count": 17,
     "metadata": {},
     "output_type": "execute_result"
    }
   ],
   "source": [
    "# Read apple price table\n",
    "filepath = \"apple.csv\"\n",
    "apple_price = pd.read_csv(filepath)\n",
    "apple_price.head()"
   ]
  },
  {
   "cell_type": "code",
   "execution_count": 18,
   "metadata": {
    "scrolled": true
   },
   "outputs": [
    {
     "data": {
      "text/html": [
       "<div>\n",
       "<style scoped>\n",
       "    .dataframe tbody tr th:only-of-type {\n",
       "        vertical-align: middle;\n",
       "    }\n",
       "\n",
       "    .dataframe tbody tr th {\n",
       "        vertical-align: top;\n",
       "    }\n",
       "\n",
       "    .dataframe thead th {\n",
       "        text-align: right;\n",
       "    }\n",
       "</style>\n",
       "<table border=\"1\" class=\"dataframe\">\n",
       "  <thead>\n",
       "    <tr style=\"text-align: right;\">\n",
       "      <th></th>\n",
       "      <th>date</th>\n",
       "      <th>region</th>\n",
       "      <th>commodity</th>\n",
       "      <th>variety</th>\n",
       "      <th>unit</th>\n",
       "      <th>weighted_avg_price</th>\n",
       "    </tr>\n",
       "  </thead>\n",
       "  <tbody>\n",
       "    <tr>\n",
       "      <th>0</th>\n",
       "      <td>11/6/2020</td>\n",
       "      <td>SOUTHWEST U.S.</td>\n",
       "      <td>APPLES</td>\n",
       "      <td>FUJI</td>\n",
       "      <td>3 lb bag</td>\n",
       "      <td>3.50</td>\n",
       "    </tr>\n",
       "    <tr>\n",
       "      <th>1</th>\n",
       "      <td>11/6/2020</td>\n",
       "      <td>SOUTHWEST U.S.</td>\n",
       "      <td>APPLES</td>\n",
       "      <td>FUJI</td>\n",
       "      <td>5 lb bag</td>\n",
       "      <td>3.55</td>\n",
       "    </tr>\n",
       "    <tr>\n",
       "      <th>2</th>\n",
       "      <td>11/6/2020</td>\n",
       "      <td>SOUTHWEST U.S.</td>\n",
       "      <td>APPLES</td>\n",
       "      <td>FUJI</td>\n",
       "      <td>per pound</td>\n",
       "      <td>1.22</td>\n",
       "    </tr>\n",
       "    <tr>\n",
       "      <th>3</th>\n",
       "      <td>11/6/2020</td>\n",
       "      <td>SOUTHWEST U.S.</td>\n",
       "      <td>APPLES</td>\n",
       "      <td>FUJI</td>\n",
       "      <td>2 lb bag</td>\n",
       "      <td>2.50</td>\n",
       "    </tr>\n",
       "    <tr>\n",
       "      <th>4</th>\n",
       "      <td>11/6/2020</td>\n",
       "      <td>SOUTHWEST U.S.</td>\n",
       "      <td>APPLES</td>\n",
       "      <td>FUJI</td>\n",
       "      <td>3 lb bag</td>\n",
       "      <td>3.99</td>\n",
       "    </tr>\n",
       "  </tbody>\n",
       "</table>\n",
       "</div>"
      ],
      "text/plain": [
       "        date          region commodity variety       unit  weighted_avg_price\n",
       "0  11/6/2020  SOUTHWEST U.S.    APPLES    FUJI   3 lb bag                3.50\n",
       "1  11/6/2020  SOUTHWEST U.S.    APPLES    FUJI   5 lb bag                3.55\n",
       "2  11/6/2020  SOUTHWEST U.S.    APPLES    FUJI  per pound                1.22\n",
       "3  11/6/2020  SOUTHWEST U.S.    APPLES    FUJI   2 lb bag                2.50\n",
       "4  11/6/2020  SOUTHWEST U.S.    APPLES    FUJI   3 lb bag                3.99"
      ]
     },
     "execution_count": 18,
     "metadata": {},
     "output_type": "execute_result"
    }
   ],
   "source": [
    "# Create a filtered dataframe from specific columns\n",
    "price_cols = [\"Date\", \"Region\", \"Commodity\",\"Variety\",\"Unit\", \"Weighted Avg Price\"]\n",
    "price_transformed= apple_price[price_cols].copy()\n",
    "# Rename the column headers\n",
    "price_transformed = price_transformed.rename(columns={\"Date\":\"date\",\n",
    "                                                      \"Region\":\"region\",\n",
    "                                                      \"Commodity\":\"commodity\",\n",
    "                                                      \"Variety\":\"variety\",\n",
    "                                                      \"Unit\":\"unit\",\n",
    "                                                      \"Weighted Avg Price\":\"weighted_avg_price\"\n",
    "                                                     })\n",
    "\n",
    "price_transformed.head()"
   ]
  },
  {
   "cell_type": "markdown",
   "metadata": {},
   "source": [
    "### BANANAS - Data Cleaning and Transforming"
   ]
  },
  {
   "cell_type": "code",
   "execution_count": 19,
   "metadata": {},
   "outputs": [],
   "source": [
    "url_2 = 'https://en.wikipedia.org/wiki/Banana'"
   ]
  },
  {
   "cell_type": "code",
   "execution_count": 20,
   "metadata": {},
   "outputs": [],
   "source": [
    "tables = pd.read_html(url_2)"
   ]
  },
  {
   "cell_type": "code",
   "execution_count": 21,
   "metadata": {},
   "outputs": [],
   "source": [
    "banana_df = tables[2]"
   ]
  },
  {
   "cell_type": "code",
   "execution_count": 22,
   "metadata": {},
   "outputs": [],
   "source": [
    "banana_df = banana_df.dropna()"
   ]
  },
  {
   "cell_type": "code",
   "execution_count": 23,
   "metadata": {},
   "outputs": [],
   "source": [
    "banana_df = banana_df.drop([31,32,33])"
   ]
  },
  {
   "cell_type": "code",
   "execution_count": 24,
   "metadata": {},
   "outputs": [],
   "source": [
    "banana_df = banana_df.rename(columns={'Nutritional value per 100 g (3.5 oz)': 'Nutrition',\n",
    "                        'Nutritional value per 100 g (3.5 oz).1': 'Nutritional value per 100 g'})"
   ]
  },
  {
   "cell_type": "code",
   "execution_count": 25,
   "metadata": {},
   "outputs": [],
   "source": [
    "banana_df = banana_df.set_index('Nutrition')"
   ]
  },
  {
   "cell_type": "code",
   "execution_count": 26,
   "metadata": {},
   "outputs": [],
   "source": [
    "banana_df = banana_df.transpose()"
   ]
  },
  {
   "cell_type": "code",
   "execution_count": 27,
   "metadata": {},
   "outputs": [],
   "source": [
    "banana_df.insert(0, \"Commodity\", [\"BANANAS\"], True)"
   ]
  },
  {
   "cell_type": "code",
   "execution_count": 28,
   "metadata": {},
   "outputs": [
    {
     "data": {
      "text/html": [
       "<div>\n",
       "<style scoped>\n",
       "    .dataframe tbody tr th:only-of-type {\n",
       "        vertical-align: middle;\n",
       "    }\n",
       "\n",
       "    .dataframe tbody tr th {\n",
       "        vertical-align: top;\n",
       "    }\n",
       "\n",
       "    .dataframe thead th {\n",
       "        text-align: right;\n",
       "    }\n",
       "</style>\n",
       "<table border=\"1\" class=\"dataframe\">\n",
       "  <thead>\n",
       "    <tr style=\"text-align: right;\">\n",
       "      <th>Nutrition</th>\n",
       "      <th>Commodity</th>\n",
       "      <th>Energy</th>\n",
       "      <th>Carbohydrates</th>\n",
       "      <th>Sugars</th>\n",
       "      <th>Dietary fiber</th>\n",
       "      <th>Fat</th>\n",
       "      <th>Protein</th>\n",
       "      <th>Vitamins</th>\n",
       "      <th>Thiamine (B1)</th>\n",
       "      <th>Riboflavin (B2)</th>\n",
       "      <th>...</th>\n",
       "      <th>Minerals</th>\n",
       "      <th>Iron</th>\n",
       "      <th>Magnesium</th>\n",
       "      <th>Manganese</th>\n",
       "      <th>Phosphorus</th>\n",
       "      <th>Potassium</th>\n",
       "      <th>Sodium</th>\n",
       "      <th>Zinc</th>\n",
       "      <th>Other constituents</th>\n",
       "      <th>Water</th>\n",
       "    </tr>\n",
       "  </thead>\n",
       "  <tbody>\n",
       "    <tr>\n",
       "      <th>Nutritional value per 100 g</th>\n",
       "      <td>BANANAS</td>\n",
       "      <td>371 kJ (89 kcal)</td>\n",
       "      <td>22.84 g</td>\n",
       "      <td>12.23 g</td>\n",
       "      <td>2.6 g</td>\n",
       "      <td>0.33 g</td>\n",
       "      <td>1.09 g</td>\n",
       "      <td>Quantity %DV†</td>\n",
       "      <td>3% 0.031 mg</td>\n",
       "      <td>6% 0.073 mg</td>\n",
       "      <td>...</td>\n",
       "      <td>Quantity %DV†</td>\n",
       "      <td>2% 0.26 mg</td>\n",
       "      <td>8% 27 mg</td>\n",
       "      <td>13% 0.27 mg</td>\n",
       "      <td>3% 22 mg</td>\n",
       "      <td>8% 358 mg</td>\n",
       "      <td>0% 1 mg</td>\n",
       "      <td>2% 0.15 mg</td>\n",
       "      <td>Quantity</td>\n",
       "      <td>74.91 g</td>\n",
       "    </tr>\n",
       "  </tbody>\n",
       "</table>\n",
       "<p>1 rows × 26 columns</p>\n",
       "</div>"
      ],
      "text/plain": [
       "Nutrition                   Commodity            Energy Carbohydrates  \\\n",
       "Nutritional value per 100 g   BANANAS  371 kJ (89 kcal)       22.84 g   \n",
       "\n",
       "Nutrition                     Sugars Dietary fiber     Fat Protein  \\\n",
       "Nutritional value per 100 g  12.23 g         2.6 g  0.33 g  1.09 g   \n",
       "\n",
       "Nutrition                         Vitamins Thiamine (B1) Riboflavin (B2)  ...  \\\n",
       "Nutritional value per 100 g  Quantity %DV†   3% 0.031 mg     6% 0.073 mg  ...   \n",
       "\n",
       "Nutrition                         Minerals        Iron Magnesium    Manganese  \\\n",
       "Nutritional value per 100 g  Quantity %DV†  2% 0.26 mg  8% 27 mg  13% 0.27 mg   \n",
       "\n",
       "Nutrition                   Phosphorus  Potassium   Sodium        Zinc  \\\n",
       "Nutritional value per 100 g   3% 22 mg  8% 358 mg  0% 1 mg  2% 0.15 mg   \n",
       "\n",
       "Nutrition                   Other constituents    Water  \n",
       "Nutritional value per 100 g           Quantity  74.91 g  \n",
       "\n",
       "[1 rows x 26 columns]"
      ]
     },
     "execution_count": 28,
     "metadata": {},
     "output_type": "execute_result"
    }
   ],
   "source": [
    "banana_df"
   ]
  },
  {
   "cell_type": "code",
   "execution_count": 29,
   "metadata": {},
   "outputs": [
    {
     "data": {
      "text/html": [
       "<div>\n",
       "<style scoped>\n",
       "    .dataframe tbody tr th:only-of-type {\n",
       "        vertical-align: middle;\n",
       "    }\n",
       "\n",
       "    .dataframe tbody tr th {\n",
       "        vertical-align: top;\n",
       "    }\n",
       "\n",
       "    .dataframe thead th {\n",
       "        text-align: right;\n",
       "    }\n",
       "</style>\n",
       "<table border=\"1\" class=\"dataframe\">\n",
       "  <thead>\n",
       "    <tr style=\"text-align: right;\">\n",
       "      <th></th>\n",
       "      <th>Unnamed: 0</th>\n",
       "      <th>Bananas</th>\n",
       "      <th>Plantains</th>\n",
       "      <th>Total</th>\n",
       "    </tr>\n",
       "  </thead>\n",
       "  <tbody>\n",
       "    <tr>\n",
       "      <th>0</th>\n",
       "      <td>India</td>\n",
       "      <td>30.5</td>\n",
       "      <td>NaN</td>\n",
       "      <td>30.5</td>\n",
       "    </tr>\n",
       "    <tr>\n",
       "      <th>1</th>\n",
       "      <td>China</td>\n",
       "      <td>11.2</td>\n",
       "      <td>NaN</td>\n",
       "      <td>11.2</td>\n",
       "    </tr>\n",
       "    <tr>\n",
       "      <th>2</th>\n",
       "      <td>Philippines</td>\n",
       "      <td>6.1</td>\n",
       "      <td>3.1</td>\n",
       "      <td>9.2</td>\n",
       "    </tr>\n",
       "    <tr>\n",
       "      <th>3</th>\n",
       "      <td>Colombia</td>\n",
       "      <td>3.8</td>\n",
       "      <td>3.6</td>\n",
       "      <td>7.4</td>\n",
       "    </tr>\n",
       "    <tr>\n",
       "      <th>4</th>\n",
       "      <td>Indonesia</td>\n",
       "      <td>7.2</td>\n",
       "      <td>NaN</td>\n",
       "      <td>7.2</td>\n",
       "    </tr>\n",
       "  </tbody>\n",
       "</table>\n",
       "</div>"
      ],
      "text/plain": [
       "    Unnamed: 0 Bananas Plantains Total\n",
       "0        India    30.5       NaN  30.5\n",
       "1        China    11.2       NaN  11.2\n",
       "2  Philippines     6.1       3.1   9.2\n",
       "3     Colombia     3.8       3.6   7.4\n",
       "4    Indonesia     7.2       NaN   7.2"
      ]
     },
     "execution_count": 29,
     "metadata": {},
     "output_type": "execute_result"
    }
   ],
   "source": [
    "bananas_country = tables[1]\n",
    "bananas_country.head()"
   ]
  },
  {
   "cell_type": "code",
   "execution_count": 30,
   "metadata": {},
   "outputs": [
    {
     "data": {
      "text/html": [
       "<div>\n",
       "<style scoped>\n",
       "    .dataframe tbody tr th:only-of-type {\n",
       "        vertical-align: middle;\n",
       "    }\n",
       "\n",
       "    .dataframe tbody tr th {\n",
       "        vertical-align: top;\n",
       "    }\n",
       "\n",
       "    .dataframe thead th {\n",
       "        text-align: right;\n",
       "    }\n",
       "</style>\n",
       "<table border=\"1\" class=\"dataframe\">\n",
       "  <thead>\n",
       "    <tr style=\"text-align: right;\">\n",
       "      <th></th>\n",
       "      <th>Unnamed: 0</th>\n",
       "      <th>Bananas</th>\n",
       "      <th>Plantains</th>\n",
       "      <th>Total</th>\n",
       "    </tr>\n",
       "  </thead>\n",
       "  <tbody>\n",
       "    <tr>\n",
       "      <th>0</th>\n",
       "      <td>India</td>\n",
       "      <td>30.5</td>\n",
       "      <td>NaN</td>\n",
       "      <td>30.5</td>\n",
       "    </tr>\n",
       "    <tr>\n",
       "      <th>1</th>\n",
       "      <td>China</td>\n",
       "      <td>11.2</td>\n",
       "      <td>NaN</td>\n",
       "      <td>11.2</td>\n",
       "    </tr>\n",
       "    <tr>\n",
       "      <th>2</th>\n",
       "      <td>Philippines</td>\n",
       "      <td>6.1</td>\n",
       "      <td>3.1</td>\n",
       "      <td>9.2</td>\n",
       "    </tr>\n",
       "  </tbody>\n",
       "</table>\n",
       "</div>"
      ],
      "text/plain": [
       "    Unnamed: 0 Bananas Plantains Total\n",
       "0        India    30.5       NaN  30.5\n",
       "1        China    11.2       NaN  11.2\n",
       "2  Philippines     6.1       3.1   9.2"
      ]
     },
     "execution_count": 30,
     "metadata": {},
     "output_type": "execute_result"
    }
   ],
   "source": [
    "bananas_top3 = bananas_country.iloc[0:3]\n",
    "bananas_top3"
   ]
  },
  {
   "cell_type": "code",
   "execution_count": 31,
   "metadata": {},
   "outputs": [
    {
     "data": {
      "text/html": [
       "<div>\n",
       "<style scoped>\n",
       "    .dataframe tbody tr th:only-of-type {\n",
       "        vertical-align: middle;\n",
       "    }\n",
       "\n",
       "    .dataframe tbody tr th {\n",
       "        vertical-align: top;\n",
       "    }\n",
       "\n",
       "    .dataframe thead th {\n",
       "        text-align: right;\n",
       "    }\n",
       "</style>\n",
       "<table border=\"1\" class=\"dataframe\">\n",
       "  <thead>\n",
       "    <tr style=\"text-align: right;\">\n",
       "      <th></th>\n",
       "      <th>Unnamed: 0</th>\n",
       "      <th>Bananas</th>\n",
       "    </tr>\n",
       "  </thead>\n",
       "  <tbody>\n",
       "    <tr>\n",
       "      <th>0</th>\n",
       "      <td>India</td>\n",
       "      <td>30.5</td>\n",
       "    </tr>\n",
       "    <tr>\n",
       "      <th>1</th>\n",
       "      <td>China</td>\n",
       "      <td>11.2</td>\n",
       "    </tr>\n",
       "    <tr>\n",
       "      <th>2</th>\n",
       "      <td>Philippines</td>\n",
       "      <td>6.1</td>\n",
       "    </tr>\n",
       "  </tbody>\n",
       "</table>\n",
       "</div>"
      ],
      "text/plain": [
       "    Unnamed: 0 Bananas\n",
       "0        India    30.5\n",
       "1        China    11.2\n",
       "2  Philippines     6.1"
      ]
     },
     "execution_count": 31,
     "metadata": {},
     "output_type": "execute_result"
    }
   ],
   "source": [
    "bananas_top3 = bananas_top3[[\"Unnamed: 0\",\"Bananas\"]]\n",
    "bananas_top3"
   ]
  },
  {
   "cell_type": "code",
   "execution_count": 32,
   "metadata": {},
   "outputs": [
    {
     "data": {
      "text/html": [
       "<div>\n",
       "<style scoped>\n",
       "    .dataframe tbody tr th:only-of-type {\n",
       "        vertical-align: middle;\n",
       "    }\n",
       "\n",
       "    .dataframe tbody tr th {\n",
       "        vertical-align: top;\n",
       "    }\n",
       "\n",
       "    .dataframe thead th {\n",
       "        text-align: right;\n",
       "    }\n",
       "</style>\n",
       "<table border=\"1\" class=\"dataframe\">\n",
       "  <thead>\n",
       "    <tr style=\"text-align: right;\">\n",
       "      <th></th>\n",
       "      <th>country</th>\n",
       "      <th>millions_of_tonnes</th>\n",
       "    </tr>\n",
       "  </thead>\n",
       "  <tbody>\n",
       "    <tr>\n",
       "      <th>0</th>\n",
       "      <td>India</td>\n",
       "      <td>30.5</td>\n",
       "    </tr>\n",
       "    <tr>\n",
       "      <th>1</th>\n",
       "      <td>China</td>\n",
       "      <td>11.2</td>\n",
       "    </tr>\n",
       "    <tr>\n",
       "      <th>2</th>\n",
       "      <td>Philippines</td>\n",
       "      <td>6.1</td>\n",
       "    </tr>\n",
       "  </tbody>\n",
       "</table>\n",
       "</div>"
      ],
      "text/plain": [
       "       country millions_of_tonnes\n",
       "0        India               30.5\n",
       "1        China               11.2\n",
       "2  Philippines                6.1"
      ]
     },
     "execution_count": 32,
     "metadata": {},
     "output_type": "execute_result"
    }
   ],
   "source": [
    "bananas_top3 = bananas_top3.rename(columns={'Unnamed: 0': 'country','Bananas': 'millions_of_tonnes'})\n",
    "bananas_top3"
   ]
  },
  {
   "cell_type": "code",
   "execution_count": 33,
   "metadata": {},
   "outputs": [
    {
     "data": {
      "text/html": [
       "<div>\n",
       "<style scoped>\n",
       "    .dataframe tbody tr th:only-of-type {\n",
       "        vertical-align: middle;\n",
       "    }\n",
       "\n",
       "    .dataframe tbody tr th {\n",
       "        vertical-align: top;\n",
       "    }\n",
       "\n",
       "    .dataframe thead th {\n",
       "        text-align: right;\n",
       "    }\n",
       "</style>\n",
       "<table border=\"1\" class=\"dataframe\">\n",
       "  <thead>\n",
       "    <tr style=\"text-align: right;\">\n",
       "      <th></th>\n",
       "      <th>commodity</th>\n",
       "      <th>country</th>\n",
       "      <th>millions_of_tonnes</th>\n",
       "    </tr>\n",
       "  </thead>\n",
       "  <tbody>\n",
       "    <tr>\n",
       "      <th>0</th>\n",
       "      <td>BANANAS</td>\n",
       "      <td>India</td>\n",
       "      <td>30.5</td>\n",
       "    </tr>\n",
       "    <tr>\n",
       "      <th>1</th>\n",
       "      <td>BANANAS</td>\n",
       "      <td>China</td>\n",
       "      <td>11.2</td>\n",
       "    </tr>\n",
       "    <tr>\n",
       "      <th>2</th>\n",
       "      <td>BANANAS</td>\n",
       "      <td>Philippines</td>\n",
       "      <td>6.1</td>\n",
       "    </tr>\n",
       "  </tbody>\n",
       "</table>\n",
       "</div>"
      ],
      "text/plain": [
       "  commodity      country millions_of_tonnes\n",
       "0   BANANAS        India               30.5\n",
       "1   BANANAS        China               11.2\n",
       "2   BANANAS  Philippines                6.1"
      ]
     },
     "execution_count": 33,
     "metadata": {},
     "output_type": "execute_result"
    }
   ],
   "source": [
    "bananas_top3.insert(0, \"commodity\", [\"BANANAS\",\"BANANAS\",\"BANANAS\"], True)\n",
    "bananas_top3"
   ]
  },
  {
   "cell_type": "code",
   "execution_count": 34,
   "metadata": {
    "scrolled": true
   },
   "outputs": [
    {
     "data": {
      "text/html": [
       "<div>\n",
       "<style scoped>\n",
       "    .dataframe tbody tr th:only-of-type {\n",
       "        vertical-align: middle;\n",
       "    }\n",
       "\n",
       "    .dataframe tbody tr th {\n",
       "        vertical-align: top;\n",
       "    }\n",
       "\n",
       "    .dataframe thead th {\n",
       "        text-align: right;\n",
       "    }\n",
       "</style>\n",
       "<table border=\"1\" class=\"dataframe\">\n",
       "  <thead>\n",
       "    <tr style=\"text-align: right;\">\n",
       "      <th></th>\n",
       "      <th>Date</th>\n",
       "      <th>Region</th>\n",
       "      <th>Class</th>\n",
       "      <th>Commodity</th>\n",
       "      <th>Variety</th>\n",
       "      <th>Organic</th>\n",
       "      <th>Environment</th>\n",
       "      <th>Unit</th>\n",
       "      <th>Number of Stores</th>\n",
       "      <th>Weighted Avg Price</th>\n",
       "      <th>Low Price</th>\n",
       "      <th>High Price</th>\n",
       "      <th>% Marked Local</th>\n",
       "    </tr>\n",
       "  </thead>\n",
       "  <tbody>\n",
       "    <tr>\n",
       "      <th>0</th>\n",
       "      <td>11/6/2020</td>\n",
       "      <td>SOUTHWEST U.S.</td>\n",
       "      <td>FRUITS</td>\n",
       "      <td>BANANAS</td>\n",
       "      <td>NaN</td>\n",
       "      <td>NaN</td>\n",
       "      <td>NaN</td>\n",
       "      <td>per pound</td>\n",
       "      <td>251</td>\n",
       "      <td>0.53</td>\n",
       "      <td>0.33</td>\n",
       "      <td>0.79</td>\n",
       "      <td>NaN</td>\n",
       "    </tr>\n",
       "  </tbody>\n",
       "</table>\n",
       "</div>"
      ],
      "text/plain": [
       "        Date          Region   Class Commodity  Variety  Organic  Environment  \\\n",
       "0  11/6/2020  SOUTHWEST U.S.  FRUITS   BANANAS      NaN      NaN          NaN   \n",
       "\n",
       "        Unit  Number of Stores  Weighted Avg Price  Low Price  High Price  \\\n",
       "0  per pound               251                0.53       0.33        0.79   \n",
       "\n",
       "   % Marked Local  \n",
       "0             NaN  "
      ]
     },
     "execution_count": 34,
     "metadata": {},
     "output_type": "execute_result"
    }
   ],
   "source": [
    "# Read apple price table\n",
    "filepath_2 = \"bananas.csv\"\n",
    "bananas_price = pd.read_csv(filepath_2)\n",
    "bananas_price"
   ]
  },
  {
   "cell_type": "code",
   "execution_count": 35,
   "metadata": {},
   "outputs": [
    {
     "data": {
      "text/html": [
       "<div>\n",
       "<style scoped>\n",
       "    .dataframe tbody tr th:only-of-type {\n",
       "        vertical-align: middle;\n",
       "    }\n",
       "\n",
       "    .dataframe tbody tr th {\n",
       "        vertical-align: top;\n",
       "    }\n",
       "\n",
       "    .dataframe thead th {\n",
       "        text-align: right;\n",
       "    }\n",
       "</style>\n",
       "<table border=\"1\" class=\"dataframe\">\n",
       "  <thead>\n",
       "    <tr style=\"text-align: right;\">\n",
       "      <th></th>\n",
       "      <th>date</th>\n",
       "      <th>region</th>\n",
       "      <th>commodity</th>\n",
       "      <th>variety</th>\n",
       "      <th>unit</th>\n",
       "      <th>weighted_avg_price</th>\n",
       "    </tr>\n",
       "  </thead>\n",
       "  <tbody>\n",
       "    <tr>\n",
       "      <th>0</th>\n",
       "      <td>11/6/2020</td>\n",
       "      <td>SOUTHWEST U.S.</td>\n",
       "      <td>APPLES</td>\n",
       "      <td>FUJI</td>\n",
       "      <td>3 lb bag</td>\n",
       "      <td>3.50</td>\n",
       "    </tr>\n",
       "    <tr>\n",
       "      <th>1</th>\n",
       "      <td>11/6/2020</td>\n",
       "      <td>SOUTHWEST U.S.</td>\n",
       "      <td>APPLES</td>\n",
       "      <td>FUJI</td>\n",
       "      <td>5 lb bag</td>\n",
       "      <td>3.55</td>\n",
       "    </tr>\n",
       "    <tr>\n",
       "      <th>2</th>\n",
       "      <td>11/6/2020</td>\n",
       "      <td>SOUTHWEST U.S.</td>\n",
       "      <td>APPLES</td>\n",
       "      <td>FUJI</td>\n",
       "      <td>per pound</td>\n",
       "      <td>1.22</td>\n",
       "    </tr>\n",
       "    <tr>\n",
       "      <th>3</th>\n",
       "      <td>11/6/2020</td>\n",
       "      <td>SOUTHWEST U.S.</td>\n",
       "      <td>APPLES</td>\n",
       "      <td>FUJI</td>\n",
       "      <td>2 lb bag</td>\n",
       "      <td>2.50</td>\n",
       "    </tr>\n",
       "    <tr>\n",
       "      <th>4</th>\n",
       "      <td>11/6/2020</td>\n",
       "      <td>SOUTHWEST U.S.</td>\n",
       "      <td>APPLES</td>\n",
       "      <td>FUJI</td>\n",
       "      <td>3 lb bag</td>\n",
       "      <td>3.99</td>\n",
       "    </tr>\n",
       "  </tbody>\n",
       "</table>\n",
       "</div>"
      ],
      "text/plain": [
       "        date          region commodity variety       unit  weighted_avg_price\n",
       "0  11/6/2020  SOUTHWEST U.S.    APPLES    FUJI   3 lb bag                3.50\n",
       "1  11/6/2020  SOUTHWEST U.S.    APPLES    FUJI   5 lb bag                3.55\n",
       "2  11/6/2020  SOUTHWEST U.S.    APPLES    FUJI  per pound                1.22\n",
       "3  11/6/2020  SOUTHWEST U.S.    APPLES    FUJI   2 lb bag                2.50\n",
       "4  11/6/2020  SOUTHWEST U.S.    APPLES    FUJI   3 lb bag                3.99"
      ]
     },
     "execution_count": 35,
     "metadata": {},
     "output_type": "execute_result"
    }
   ],
   "source": [
    "# Create a filtered dataframe from specific columns\n",
    "price_cols = [\"Date\", \"Region\", \"Commodity\",\"Variety\",\"Unit\", \"Weighted Avg Price\"]\n",
    "bananas_transformed= bananas_price[price_cols].copy()\n",
    "# Rename the column headers\n",
    "bananas_transformed = price_transformed.rename(columns={\"Date\":\"date\",\n",
    "                                                      \"Region\":\"region\",\n",
    "                                                      \"Commodity\":\"commodity\",\n",
    "                                                      \"Variety\":\"variety\",\n",
    "                                                      \"Unit\":\"unit\",\n",
    "                                                      \"Weighted Avg Price\":\"weighted_avg_price\"\n",
    "                                                     })\n",
    "\n",
    "bananas_transformed.head()"
   ]
  },
  {
   "cell_type": "markdown",
   "metadata": {},
   "source": [
    "### Connect to local database"
   ]
  },
  {
   "cell_type": "code",
   "execution_count": 36,
   "metadata": {},
   "outputs": [],
   "source": [
    "from sqlalchemy import create_engine"
   ]
  },
  {
   "cell_type": "code",
   "execution_count": 37,
   "metadata": {},
   "outputs": [],
   "source": [
    "connection_string = \"postgres:postgres@localhost:5432/produce_db\"\n",
    "engine = create_engine(f'postgresql://{connection_string}')"
   ]
  },
  {
   "cell_type": "markdown",
   "metadata": {},
   "source": [
    "### Check for tables"
   ]
  },
  {
   "cell_type": "code",
   "execution_count": 38,
   "metadata": {},
   "outputs": [
    {
     "data": {
      "text/plain": [
       "['apple_country', 'apple_price']"
      ]
     },
     "execution_count": 38,
     "metadata": {},
     "output_type": "execute_result"
    }
   ],
   "source": [
    "# Confirm tables\n",
    "engine.table_names()"
   ]
  },
  {
   "cell_type": "markdown",
   "metadata": {},
   "source": [
    "### Use pandas to load csv converted DataFrame into database"
   ]
  },
  {
   "cell_type": "code",
   "execution_count": 39,
   "metadata": {},
   "outputs": [],
   "source": [
    "apple_top3.to_sql(name='apple_country', con=engine, if_exists='append', index=True)"
   ]
  },
  {
   "cell_type": "code",
   "execution_count": 40,
   "metadata": {},
   "outputs": [],
   "source": [
    "price_transformed.to_sql(name='apple_price', con=engine, if_exists='append', index=True)"
   ]
  },
  {
   "cell_type": "code",
   "execution_count": 41,
   "metadata": {},
   "outputs": [],
   "source": [
    "bananas_top3.to_sql(name='apple_country', con=engine, if_exists='append', index=True)"
   ]
  },
  {
   "cell_type": "code",
   "execution_count": 42,
   "metadata": {},
   "outputs": [],
   "source": [
    "bananas_transformed.to_sql(name='apple_price', con=engine, if_exists='append', index=True)"
   ]
  },
  {
   "cell_type": "markdown",
   "metadata": {},
   "source": [
    "### BEETS - Data Cleaning and Transforming"
   ]
  },
  {
   "cell_type": "code",
   "execution_count": 43,
   "metadata": {},
   "outputs": [],
   "source": [
    "url_2 = 'https://en.wikipedia.org/wiki/Beetroot'"
   ]
  },
  {
   "cell_type": "code",
   "execution_count": 44,
   "metadata": {},
   "outputs": [],
   "source": [
    "tables = pd.read_html(url_2)"
   ]
  },
  {
   "cell_type": "code",
   "execution_count": 45,
   "metadata": {
    "scrolled": true
   },
   "outputs": [],
   "source": [
    "beet_df = tables[1]"
   ]
  },
  {
   "cell_type": "code",
   "execution_count": 46,
   "metadata": {},
   "outputs": [
    {
     "data": {
      "text/html": [
       "<div>\n",
       "<style scoped>\n",
       "    .dataframe tbody tr th:only-of-type {\n",
       "        vertical-align: middle;\n",
       "    }\n",
       "\n",
       "    .dataframe tbody tr th {\n",
       "        vertical-align: top;\n",
       "    }\n",
       "\n",
       "    .dataframe thead th {\n",
       "        text-align: right;\n",
       "    }\n",
       "</style>\n",
       "<table border=\"1\" class=\"dataframe\">\n",
       "  <thead>\n",
       "    <tr style=\"text-align: right;\">\n",
       "      <th></th>\n",
       "      <th>Nutritional value per 100 g (3.5 oz)</th>\n",
       "      <th>Nutritional value per 100 g (3.5 oz).1</th>\n",
       "    </tr>\n",
       "  </thead>\n",
       "  <tbody>\n",
       "    <tr>\n",
       "      <th>0</th>\n",
       "      <td>Energy</td>\n",
       "      <td>180 kJ (43 kcal)</td>\n",
       "    </tr>\n",
       "    <tr>\n",
       "      <th>2</th>\n",
       "      <td>Carbohydrates</td>\n",
       "      <td>9.56 g</td>\n",
       "    </tr>\n",
       "    <tr>\n",
       "      <th>3</th>\n",
       "      <td>Sugars</td>\n",
       "      <td>6.76 g</td>\n",
       "    </tr>\n",
       "    <tr>\n",
       "      <th>4</th>\n",
       "      <td>Dietary fiber</td>\n",
       "      <td>2.8 g</td>\n",
       "    </tr>\n",
       "    <tr>\n",
       "      <th>6</th>\n",
       "      <td>Fat</td>\n",
       "      <td>0.17 g</td>\n",
       "    </tr>\n",
       "  </tbody>\n",
       "</table>\n",
       "</div>"
      ],
      "text/plain": [
       "  Nutritional value per 100 g (3.5 oz) Nutritional value per 100 g (3.5 oz).1\n",
       "0                               Energy                       180 kJ (43 kcal)\n",
       "2                        Carbohydrates                                 9.56 g\n",
       "3                               Sugars                                 6.76 g\n",
       "4                        Dietary fiber                                  2.8 g\n",
       "6                                  Fat                                 0.17 g"
      ]
     },
     "execution_count": 46,
     "metadata": {},
     "output_type": "execute_result"
    }
   ],
   "source": [
    "beet_df = beet_df.dropna()\n",
    "beet_df.head()"
   ]
  },
  {
   "cell_type": "markdown",
   "metadata": {},
   "source": [
    "### PEPPER BELLS - Data Cleaning and Transforming"
   ]
  },
  {
   "cell_type": "code",
   "execution_count": 47,
   "metadata": {},
   "outputs": [],
   "source": [
    "url_3 = 'https://en.wikipedia.org/wiki/Bell_pepper'"
   ]
  },
  {
   "cell_type": "code",
   "execution_count": 48,
   "metadata": {
    "scrolled": true
   },
   "outputs": [],
   "source": [
    "tables = pd.read_html(url_3)"
   ]
  },
  {
   "cell_type": "code",
   "execution_count": 49,
   "metadata": {},
   "outputs": [],
   "source": [
    "pepper_df = tables[1]"
   ]
  },
  {
   "cell_type": "code",
   "execution_count": 50,
   "metadata": {},
   "outputs": [],
   "source": [
    "pepper_df = pepper_df.dropna()"
   ]
  },
  {
   "cell_type": "code",
   "execution_count": 51,
   "metadata": {},
   "outputs": [
    {
     "data": {
      "text/html": [
       "<div>\n",
       "<style scoped>\n",
       "    .dataframe tbody tr th:only-of-type {\n",
       "        vertical-align: middle;\n",
       "    }\n",
       "\n",
       "    .dataframe tbody tr th {\n",
       "        vertical-align: top;\n",
       "    }\n",
       "\n",
       "    .dataframe thead th {\n",
       "        text-align: right;\n",
       "    }\n",
       "</style>\n",
       "<table border=\"1\" class=\"dataframe\">\n",
       "  <thead>\n",
       "    <tr style=\"text-align: right;\">\n",
       "      <th></th>\n",
       "      <th>Nutritional value per 100 g (3.5 oz)</th>\n",
       "      <th>Nutritional value per 100 g (3.5 oz).1</th>\n",
       "    </tr>\n",
       "  </thead>\n",
       "  <tbody>\n",
       "    <tr>\n",
       "      <th>0</th>\n",
       "      <td>Energy</td>\n",
       "      <td>84 kJ (20 kcal)</td>\n",
       "    </tr>\n",
       "    <tr>\n",
       "      <th>2</th>\n",
       "      <td>Carbohydrates</td>\n",
       "      <td>4.64 g</td>\n",
       "    </tr>\n",
       "    <tr>\n",
       "      <th>3</th>\n",
       "      <td>Sugars</td>\n",
       "      <td>2.4 g</td>\n",
       "    </tr>\n",
       "    <tr>\n",
       "      <th>4</th>\n",
       "      <td>Dietary fiber</td>\n",
       "      <td>1.8 g</td>\n",
       "    </tr>\n",
       "    <tr>\n",
       "      <th>6</th>\n",
       "      <td>Fat</td>\n",
       "      <td>0.17 g</td>\n",
       "    </tr>\n",
       "  </tbody>\n",
       "</table>\n",
       "</div>"
      ],
      "text/plain": [
       "  Nutritional value per 100 g (3.5 oz) Nutritional value per 100 g (3.5 oz).1\n",
       "0                               Energy                        84 kJ (20 kcal)\n",
       "2                        Carbohydrates                                 4.64 g\n",
       "3                               Sugars                                  2.4 g\n",
       "4                        Dietary fiber                                  1.8 g\n",
       "6                                  Fat                                 0.17 g"
      ]
     },
     "execution_count": 51,
     "metadata": {},
     "output_type": "execute_result"
    }
   ],
   "source": [
    "pepper_df = pepper_df.drop([34,35,36])\n",
    "pepper_df.head()"
   ]
  },
  {
   "cell_type": "markdown",
   "metadata": {},
   "source": [
    "### BROCCOLI - Data Cleaning and Transforming"
   ]
  },
  {
   "cell_type": "code",
   "execution_count": 52,
   "metadata": {},
   "outputs": [],
   "source": [
    "url_4 =\"https://en.wikipedia.org/wiki/Broccoli\""
   ]
  },
  {
   "cell_type": "code",
   "execution_count": 53,
   "metadata": {},
   "outputs": [],
   "source": [
    "tables = pd.read_html(url_4)"
   ]
  },
  {
   "cell_type": "code",
   "execution_count": 54,
   "metadata": {},
   "outputs": [],
   "source": [
    "broccoli_df = tables[2]"
   ]
  },
  {
   "cell_type": "code",
   "execution_count": 55,
   "metadata": {},
   "outputs": [],
   "source": [
    "broccoli_df = broccoli_df.dropna()"
   ]
  },
  {
   "cell_type": "code",
   "execution_count": 56,
   "metadata": {
    "scrolled": true
   },
   "outputs": [
    {
     "data": {
      "text/html": [
       "<div>\n",
       "<style scoped>\n",
       "    .dataframe tbody tr th:only-of-type {\n",
       "        vertical-align: middle;\n",
       "    }\n",
       "\n",
       "    .dataframe tbody tr th {\n",
       "        vertical-align: top;\n",
       "    }\n",
       "\n",
       "    .dataframe thead th {\n",
       "        text-align: right;\n",
       "    }\n",
       "</style>\n",
       "<table border=\"1\" class=\"dataframe\">\n",
       "  <thead>\n",
       "    <tr style=\"text-align: right;\">\n",
       "      <th></th>\n",
       "      <th>Nutritional value per 100 g (3.5 oz)</th>\n",
       "      <th>Nutritional value per 100 g (3.5 oz).1</th>\n",
       "    </tr>\n",
       "  </thead>\n",
       "  <tbody>\n",
       "    <tr>\n",
       "      <th>0</th>\n",
       "      <td>Energy</td>\n",
       "      <td>141 kJ (34 kcal)</td>\n",
       "    </tr>\n",
       "    <tr>\n",
       "      <th>2</th>\n",
       "      <td>Carbohydrates</td>\n",
       "      <td>6.64 g</td>\n",
       "    </tr>\n",
       "    <tr>\n",
       "      <th>3</th>\n",
       "      <td>Sugars</td>\n",
       "      <td>1.7 g</td>\n",
       "    </tr>\n",
       "    <tr>\n",
       "      <th>4</th>\n",
       "      <td>Dietary fiber</td>\n",
       "      <td>2.6 g</td>\n",
       "    </tr>\n",
       "    <tr>\n",
       "      <th>6</th>\n",
       "      <td>Fat</td>\n",
       "      <td>0.37 g</td>\n",
       "    </tr>\n",
       "  </tbody>\n",
       "</table>\n",
       "</div>"
      ],
      "text/plain": [
       "  Nutritional value per 100 g (3.5 oz) Nutritional value per 100 g (3.5 oz).1\n",
       "0                               Energy                       141 kJ (34 kcal)\n",
       "2                        Carbohydrates                                 6.64 g\n",
       "3                               Sugars                                  1.7 g\n",
       "4                        Dietary fiber                                  2.6 g\n",
       "6                                  Fat                                 0.37 g"
      ]
     },
     "execution_count": 56,
     "metadata": {},
     "output_type": "execute_result"
    }
   ],
   "source": [
    "broccoli_df = broccoli_df.drop([35,36,37])\n",
    "broccoli_df.head()"
   ]
  },
  {
   "cell_type": "code",
   "execution_count": 57,
   "metadata": {},
   "outputs": [
    {
     "data": {
      "text/html": [
       "<div>\n",
       "<style scoped>\n",
       "    .dataframe tbody tr th:only-of-type {\n",
       "        vertical-align: middle;\n",
       "    }\n",
       "\n",
       "    .dataframe tbody tr th {\n",
       "        vertical-align: top;\n",
       "    }\n",
       "\n",
       "    .dataframe thead tr th {\n",
       "        text-align: left;\n",
       "    }\n",
       "</style>\n",
       "<table border=\"1\" class=\"dataframe\">\n",
       "  <thead>\n",
       "    <tr>\n",
       "      <th></th>\n",
       "      <th colspan=\"2\" halign=\"left\">Broccoli production — 2017(includes cauliflower)</th>\n",
       "    </tr>\n",
       "    <tr>\n",
       "      <th></th>\n",
       "      <th>Country</th>\n",
       "      <th>Productionmillions of tonnes</th>\n",
       "    </tr>\n",
       "  </thead>\n",
       "  <tbody>\n",
       "    <tr>\n",
       "      <th>0</th>\n",
       "      <td>China</td>\n",
       "      <td>10.4</td>\n",
       "    </tr>\n",
       "    <tr>\n",
       "      <th>1</th>\n",
       "      <td>India</td>\n",
       "      <td>8.6</td>\n",
       "    </tr>\n",
       "    <tr>\n",
       "      <th>2</th>\n",
       "      <td>United States</td>\n",
       "      <td>1.3</td>\n",
       "    </tr>\n",
       "    <tr>\n",
       "      <th>3</th>\n",
       "      <td>Spain</td>\n",
       "      <td>0.7</td>\n",
       "    </tr>\n",
       "    <tr>\n",
       "      <th>4</th>\n",
       "      <td>Mexico</td>\n",
       "      <td>0.7</td>\n",
       "    </tr>\n",
       "    <tr>\n",
       "      <th>5</th>\n",
       "      <td>Italy</td>\n",
       "      <td>0.4</td>\n",
       "    </tr>\n",
       "    <tr>\n",
       "      <th>6</th>\n",
       "      <td>World</td>\n",
       "      <td>26.0</td>\n",
       "    </tr>\n",
       "    <tr>\n",
       "      <th>7</th>\n",
       "      <td>Source: FAOSTAT of the United Nations[4]</td>\n",
       "      <td>Source: FAOSTAT of the United Nations[4]</td>\n",
       "    </tr>\n",
       "  </tbody>\n",
       "</table>\n",
       "</div>"
      ],
      "text/plain": [
       "  Broccoli production — 2017(includes cauliflower)  \\\n",
       "                                           Country   \n",
       "0                                            China   \n",
       "1                                            India   \n",
       "2                                    United States   \n",
       "3                                            Spain   \n",
       "4                                           Mexico   \n",
       "5                                            Italy   \n",
       "6                                            World   \n",
       "7         Source: FAOSTAT of the United Nations[4]   \n",
       "\n",
       "                                             \n",
       "               Productionmillions of tonnes  \n",
       "0                                      10.4  \n",
       "1                                       8.6  \n",
       "2                                       1.3  \n",
       "3                                       0.7  \n",
       "4                                       0.7  \n",
       "5                                       0.4  \n",
       "6                                      26.0  \n",
       "7  Source: FAOSTAT of the United Nations[4]  "
      ]
     },
     "execution_count": 57,
     "metadata": {},
     "output_type": "execute_result"
    }
   ],
   "source": [
    "broccoli_country = tables[1]\n",
    "broccoli_country"
   ]
  },
  {
   "cell_type": "code",
   "execution_count": 58,
   "metadata": {},
   "outputs": [
    {
     "data": {
      "text/html": [
       "<div>\n",
       "<style scoped>\n",
       "    .dataframe tbody tr th:only-of-type {\n",
       "        vertical-align: middle;\n",
       "    }\n",
       "\n",
       "    .dataframe tbody tr th {\n",
       "        vertical-align: top;\n",
       "    }\n",
       "\n",
       "    .dataframe thead th {\n",
       "        text-align: right;\n",
       "    }\n",
       "</style>\n",
       "<table border=\"1\" class=\"dataframe\">\n",
       "  <thead>\n",
       "    <tr style=\"text-align: right;\">\n",
       "      <th></th>\n",
       "      <th>Country</th>\n",
       "      <th>Productionmillions of tonnes</th>\n",
       "    </tr>\n",
       "  </thead>\n",
       "  <tbody>\n",
       "    <tr>\n",
       "      <th>0</th>\n",
       "      <td>China</td>\n",
       "      <td>10.4</td>\n",
       "    </tr>\n",
       "    <tr>\n",
       "      <th>1</th>\n",
       "      <td>India</td>\n",
       "      <td>8.6</td>\n",
       "    </tr>\n",
       "    <tr>\n",
       "      <th>2</th>\n",
       "      <td>United States</td>\n",
       "      <td>1.3</td>\n",
       "    </tr>\n",
       "    <tr>\n",
       "      <th>3</th>\n",
       "      <td>Spain</td>\n",
       "      <td>0.7</td>\n",
       "    </tr>\n",
       "    <tr>\n",
       "      <th>4</th>\n",
       "      <td>Mexico</td>\n",
       "      <td>0.7</td>\n",
       "    </tr>\n",
       "  </tbody>\n",
       "</table>\n",
       "</div>"
      ],
      "text/plain": [
       "         Country Productionmillions of tonnes\n",
       "0          China                         10.4\n",
       "1          India                          8.6\n",
       "2  United States                          1.3\n",
       "3          Spain                          0.7\n",
       "4         Mexico                          0.7"
      ]
     },
     "execution_count": 58,
     "metadata": {},
     "output_type": "execute_result"
    }
   ],
   "source": [
    "broccoli_country.columns = broccoli_country.columns.get_level_values(1)\n",
    "broccoli_country.head()"
   ]
  },
  {
   "cell_type": "code",
   "execution_count": 59,
   "metadata": {},
   "outputs": [
    {
     "data": {
      "text/html": [
       "<div>\n",
       "<style scoped>\n",
       "    .dataframe tbody tr th:only-of-type {\n",
       "        vertical-align: middle;\n",
       "    }\n",
       "\n",
       "    .dataframe tbody tr th {\n",
       "        vertical-align: top;\n",
       "    }\n",
       "\n",
       "    .dataframe thead th {\n",
       "        text-align: right;\n",
       "    }\n",
       "</style>\n",
       "<table border=\"1\" class=\"dataframe\">\n",
       "  <thead>\n",
       "    <tr style=\"text-align: right;\">\n",
       "      <th></th>\n",
       "      <th>Country</th>\n",
       "      <th>Productionmillions of tonnes</th>\n",
       "    </tr>\n",
       "  </thead>\n",
       "  <tbody>\n",
       "    <tr>\n",
       "      <th>0</th>\n",
       "      <td>China</td>\n",
       "      <td>10.4</td>\n",
       "    </tr>\n",
       "    <tr>\n",
       "      <th>1</th>\n",
       "      <td>India</td>\n",
       "      <td>8.6</td>\n",
       "    </tr>\n",
       "    <tr>\n",
       "      <th>2</th>\n",
       "      <td>United States</td>\n",
       "      <td>1.3</td>\n",
       "    </tr>\n",
       "  </tbody>\n",
       "</table>\n",
       "</div>"
      ],
      "text/plain": [
       "         Country Productionmillions of tonnes\n",
       "0          China                         10.4\n",
       "1          India                          8.6\n",
       "2  United States                          1.3"
      ]
     },
     "execution_count": 59,
     "metadata": {},
     "output_type": "execute_result"
    }
   ],
   "source": [
    "broccoli_top3 = broccoli_country.iloc[0:3]\n",
    "broccoli_top3"
   ]
  },
  {
   "cell_type": "code",
   "execution_count": 60,
   "metadata": {},
   "outputs": [
    {
     "data": {
      "text/html": [
       "<div>\n",
       "<style scoped>\n",
       "    .dataframe tbody tr th:only-of-type {\n",
       "        vertical-align: middle;\n",
       "    }\n",
       "\n",
       "    .dataframe tbody tr th {\n",
       "        vertical-align: top;\n",
       "    }\n",
       "\n",
       "    .dataframe thead th {\n",
       "        text-align: right;\n",
       "    }\n",
       "</style>\n",
       "<table border=\"1\" class=\"dataframe\">\n",
       "  <thead>\n",
       "    <tr style=\"text-align: right;\">\n",
       "      <th></th>\n",
       "      <th>counrty</th>\n",
       "      <th>millions_of_tonnes</th>\n",
       "    </tr>\n",
       "  </thead>\n",
       "  <tbody>\n",
       "    <tr>\n",
       "      <th>0</th>\n",
       "      <td>China</td>\n",
       "      <td>10.4</td>\n",
       "    </tr>\n",
       "    <tr>\n",
       "      <th>1</th>\n",
       "      <td>India</td>\n",
       "      <td>8.6</td>\n",
       "    </tr>\n",
       "    <tr>\n",
       "      <th>2</th>\n",
       "      <td>United States</td>\n",
       "      <td>1.3</td>\n",
       "    </tr>\n",
       "  </tbody>\n",
       "</table>\n",
       "</div>"
      ],
      "text/plain": [
       "         counrty millions_of_tonnes\n",
       "0          China               10.4\n",
       "1          India                8.6\n",
       "2  United States                1.3"
      ]
     },
     "execution_count": 60,
     "metadata": {},
     "output_type": "execute_result"
    }
   ],
   "source": [
    "broccoli_top3 = broccoli_top3.rename(columns={'Country': 'counrty','Productionmillions of tonnes': 'millions_of_tonnes'})\n",
    "broccoli_top3"
   ]
  },
  {
   "cell_type": "code",
   "execution_count": null,
   "metadata": {},
   "outputs": [],
   "source": []
  },
  {
   "cell_type": "code",
   "execution_count": null,
   "metadata": {},
   "outputs": [],
   "source": []
  }
 ],
 "metadata": {
  "kernelspec": {
   "display_name": "Python 3",
   "language": "python",
   "name": "python3"
  },
  "language_info": {
   "codemirror_mode": {
    "name": "ipython",
    "version": 3
   },
   "file_extension": ".py",
   "mimetype": "text/x-python",
   "name": "python",
   "nbconvert_exporter": "python",
   "pygments_lexer": "ipython3",
   "version": "3.6.10"
  }
 },
 "nbformat": 4,
 "nbformat_minor": 4
}
